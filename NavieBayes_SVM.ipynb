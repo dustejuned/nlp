{
  "nbformat": 4,
  "nbformat_minor": 0,
  "metadata": {
    "colab": {
      "name": "NavieBayes_SVM.ipynb",
      "version": "0.3.2",
      "provenance": [],
      "collapsed_sections": [],
      "include_colab_link": true
    },
    "kernelspec": {
      "name": "python3",
      "display_name": "Python 3"
    }
  },
  "cells": [
    {
      "cell_type": "markdown",
      "metadata": {
        "id": "view-in-github",
        "colab_type": "text"
      },
      "source": [
        "<a href=\"https://colab.research.google.com/github/dustejuned/nlp/blob/master/NavieBayes_SVM.ipynb\" target=\"_parent\"><img src=\"https://colab.research.google.com/assets/colab-badge.svg\" alt=\"Open In Colab\"/></a>"
      ]
    },
    {
      "cell_type": "code",
      "metadata": {
        "id": "zoY5n5Udxqwt",
        "colab_type": "code",
        "colab": {
          "base_uri": "https://localhost:8080/",
          "height": 85
        },
        "outputId": "b5b9589b-6fd9-47b1-eb0d-12b319614a22"
      },
      "source": [
        "from sklearn.feature_extraction.text import CountVectorizer, TfidfTransformer\n",
        "from sklearn.linear_model import SGDClassifier\n",
        "from sklearn.metrics import accuracy_score, confusion_matrix\n",
        "from sklearn.model_selection import train_test_split\n",
        "from sklearn.naive_bayes import MultinomialNB\n",
        "from sklearn.datasets import fetch_20newsgroups\n",
        "import numpy as np\n",
        "\n",
        "\n",
        "data_dir = '../data'\n",
        "\n",
        "vocab_size = 60000\n",
        "num_classes = 20\n",
        "\n",
        "news_data = fetch_20newsgroups(subset='all', data_home=data_dir, shuffle=True, random_state=22)\n",
        "\n",
        "\n",
        "num_docs = len(news_data.data)\n",
        "\n",
        "print('Number of Docs:', num_docs)\n",
        "\n",
        "\n",
        "counter_vec = CountVectorizer(max_features=vocab_size)\n",
        "tfidf = TfidfTransformer()\n",
        "\n",
        "x_ = counter_vec.fit_transform(news_data.data)\n",
        "X = tfidf.fit_transform(x_)\n",
        "y = np.array(news_data.target)\n",
        "\n",
        "\n",
        "print(X.shape, y.shape)\n",
        "\n",
        "Xtrain, Xtest, ytrain, ytest = train_test_split(X, y, train_size=0.7)\n",
        "#navie bayes classifier\n",
        "nbc = MultinomialNB()\n",
        "nbc.fit(Xtrain, ytrain)\n",
        "\n",
        "ypredicted = nbc.predict(Xtest)\n",
        "\n",
        "print('accuracy: {:.3f}'.format(accuracy_score(ytest, ypredicted)))\n",
        "\n",
        "#Support Vector Machine\n",
        "svm = SGDClassifier()\n",
        "svm.fit(Xtrain, ytrain)\n",
        "ypredicted = svm.predict(Xtest)\n",
        "\n",
        "print('accuracy: {:.3f}'.format(accuracy_score(ytest, ypredicted)))\n",
        "\n",
        "\n"
      ],
      "execution_count": 3,
      "outputs": [
        {
          "output_type": "stream",
          "text": [
            "Number of Docs: 18846\n",
            "(18846, 60000) (18846,)\n",
            "accuracy: 0.864\n",
            "accuracy: 0.924\n"
          ],
          "name": "stdout"
        }
      ]
    },
    {
      "cell_type": "code",
      "metadata": {
        "id": "WxUzUxJA1ZTn",
        "colab_type": "code",
        "colab": {
          "base_uri": "https://localhost:8080/",
          "height": 34
        },
        "outputId": "7ff8ad61-af52-44eb-b1a6-59b827d53e19"
      },
      "source": [
        "news_data.target[:10]\n"
      ],
      "execution_count": 10,
      "outputs": [
        {
          "output_type": "execute_result",
          "data": {
            "text/plain": [
              "array([ 9,  7,  8, 17,  7, 17, 14, 12, 18, 17])"
            ]
          },
          "metadata": {
            "tags": []
          },
          "execution_count": 10
        }
      ]
    },
    {
      "cell_type": "code",
      "metadata": {
        "id": "JP-l7xus3yfU",
        "colab_type": "code",
        "colab": {
          "base_uri": "https://localhost:8080/",
          "height": 207
        },
        "outputId": "3014d677-47c1-475b-d084-f7e55cb065e4"
      },
      "source": [
        "news_data.data[:10]"
      ],
      "execution_count": 9,
      "outputs": [
        {
          "output_type": "execute_result",
          "data": {
            "text/plain": [
              "['Subject: Re: MVP \\'92 Revisited\\nFrom: grabiner@math.harvard.edu (David Grabiner)\\n <9479@blue.cis.pitt.edu><1993Apr22.020832.11663@island.COM> <9709@blue.cis.pitt.edu><1r6hf4INNc16@gap.caltech.edu>\\nOrganization: /etc/organization\\nNntp-Posting-Host: germain.harvard.edu\\nIn-reply-to: shippert@cco.caltech.edu\\'s message of 22 Apr 1993 16:34:44 GMT\\nLines: 46\\n\\nIn article <1r6hf4INNc16@gap.caltech.edu>, Tim Shippert writes:\\n\\n> \\tIdeally, DHs \"should\" be the strongest offensive players, because\\n> any schmoe can play DH if he can hit.  That would take care of position\\n> corrected anomolies such as Frank\\'s.  Since that is not the case (and why\\n> not?  Is it always this way?) then we are going to have trouble finding the\\n> true value of DHs using the same models as that for position players.\\n\\nThere are several reasons for this difference.  The main reason is that\\ngood hitters in their prime (such as Frank Thomas and Danny Tartabull)\\nare rarely regular DH\\'s, even if they can\\'t field; it\\'s more commonly a\\nplace to put aging veterans.\\n\\nAnother use of the DH slot is to help a player come back from injury\\nslowly, getting his bat in the lineup without forcing him to play in the\\nfield.  I would expect such players to hit worse as DH\\'s than they did\\nduring the rest of the season.\\n\\nA third factor is that most player who split time between DH and first\\nor the outfield don\\'t hit as well as DH\\'s for some reason.  Reggie\\nJackson was a good example; in five years as a RF/DH for the Angels, he\\nhit like the old Reggie when he was in right.\\n\\nThe second and third factors will be lost if players are considered by\\ntheir primary position only; a player who plays 90 games in right and 60\\nat DH will count only in the right fielders\\' averages.\\n\\n> \\tA logical starting place would be to look at defensive replacement\\n> value (if you can find it) for 1B or LF or something.  We can assume that\\n> if forced to play defense they would play at true zero value, even though I\\n> doubt this is actually true for players like Winfield and Molitor.  This\\n> would let us \"discount\" the time they spend playing DH, because that\\n> forces the team to find another real fielder to play.\\n\\nThis makes sense; you might also look at it another way.  Although the\\n*average* offensive performance of a DH may be lower than for a left\\nfielder, the *replacement-level* offensive performance is certainly\\nlower; if you are a left fielder but can\\'t hit well enough to keep a job\\nanywhere, then you certainly can\\'t hit well enough to keep a job at DH.\\n\\n\\n--\\nDavid Grabiner, grabiner@zariski.harvard.edu\\n\"We are sorry, but the number you have dialed is imaginary.\"\\n\"Please rotate your phone 90 degrees and try again.\"\\nDisclaimer: I speak for no one and no one speaks for me.\\n',\n",
              " \"From: jkjec@westminster.ac.uk (Shazad Barlas)\\nSubject: Re: Improvements in Automatic Transmissions\\nOrganization: University of Westminster\\nLines: 5\\n\\nI just wanted to know:\\n\\nTo wheelspin in an auto, you keep the gear in N - gas it - then stick the \\ngear in D... I've never tried this but am sure it works - but does this screw \\nup the autobox? We're having a bit of a debate about it here...\\n\",\n",
              " 'From: npet@bnr.ca (Nick Pettefar)\\nSubject: Re: Camping question?\\nNntp-Posting-Host: bmdhh299\\nOrganization: BNR Europe Ltd, Maidenhead, UK\\nX-Newsreader: TIN [version 1.1 PL8]\\nLines: 46\\n\\nSanjay Sinha, on the 12 Apr 93 00:23:19 GMT wibbled:\\n\\n: Thanks to everyone who posted in my previous quest for camping info..\\n\\n: Another question. \\n: Well, not strictly r.m. stuff\\n\\n: I am looking for a thermos/flask to keep coffee hot. I mean real\\n: hot! Of course it must be the unbreakable type. So far, what ever\\n: metal type I have wasted money on has not matched the vacuum/glass \\n: type.\\n\\n: Any info appreciated.\\n\\n: Sanjay\\n\\n\\nBack in my youth (ahem) the wiffy and moi purchased a gadget which heated up\\nwater from a 12V source.  It was for car use but we thought we\\'d try it on my\\nRD350B.  It worked OK apart from one slight problem: we had to keep the revs \\nabove 7000.  Any lower and the motor would die from lack of electron movement.\\n\\nIt made for interesting cups of coffee, anyhow.  We would plot routes that\\ncontained straights of over three miles so that we had sufficient time to\\nget the water to boiling point.  This is sometimes difficult in England.\\n\\nGood luck on your quest.\\n--\\n\\nNick (the Biker)   DoD 1069   Concise Oxford\\n\\nM\\'Lud.\\n\\n  ___\\t___   ___   ___\\n {\"_\"} {\"_\"} {\"_\"} {\"_\"}\\t  Nick Pettefar, Contractor@Large.\\n  \\' `\\t` \\'   \\' `   ` \\'\\t\\t  Currently incarcerated at BNR,\\n  ___\\t___   ___   ___\\t\\t  Maidenhead, The United Kingdom.\\n |\"_\"| |\"_\"| |\"_\"| |\"_\"|\\t  npet@bnr.ca  \\'86 BMW K100RS \"Kay\"\\n  ` \\'\\t\\' `   ` \\'   \\' `\\t\\t  Pres. PBWASOH(UK),  BS 0002\\n\\t    .\\n   _ _\\t\\t_  __ .\\n  / ~ ~~\\\\   |  / ~~  \\\\\\n |_______|    [_______|\\n\\t   _:_\\n\\t  |___|\\n\\n',\n",
              " 'From: sera@zuma.UUCP (Serdar Argic)\\nSubject: Keeping the silent memory of 2.5 million Muslim people alive.\\nReply-To: sera@zuma.UUCP (Serdar Argic)\\nDistribution: world\\nLines: 34\\n\\nSource: \"Men Are Like That\" by Leonard Ramsden Hartill. The Bobbs-Merrill\\nCompany, Indianapolis (1926). (305 pages). \\n(Memoirs of an Armenian officer who participated in the genocide of 2.5 \\n million Muslim people)\\n\\np. 193.\\n\\n\"Their [Muslim] villages were destroyed and they themselves were slain or \\n driven out of the country.\"\\n\\np. 218. \\n\\n\"We Armenians did not spare the Tartars. If persisted in, the slaughtering \\n of prisoners, the looting, and the rape and massacre of the helpless become \\n commonplace actions expected and accepted as a matter of course.\\n\\n I have been on the scenes of massacres where the dead lay on the ground,\\n in numbers, like the fallen leaves in a forest. They had been as helpless\\n and as defenseless as sheep. They had not died as soldiers die in the\\n heat of battle, fired with ardor and courage, with weapons in their hands,\\n and exchanging blow for blow. They had died as the helpless must, with\\n their hearts and brains bursting with horror worse than death itself.\"\\n\\n\\nSerdar Argic\\n\\n                           \\'We closed the roads and mountain passes that \\n                            might serve as ways of escape for the Turks \\n                            and then proceeded in the work of extermination.\\'\\n                                                  (Ohanus Appressian - 1919)\\n                           \\'In Soviet Armenia today there no longer exists \\n                            a single Turkish soul.\\' (Sahak Melkonian - 1920)\\n\\n\\n',\n",
              " \"From: tomm@hank.ca.boeing.com (Tom Mackey)\\nSubject: Re: WARNING.....(please read)...\\nKeywords: BRICK, TRUCK, DANGER\\nOrganization: BoGART Graphics Development\\nLines: 27\\n\\nIn article <C5JoIt.E31@bcstec.ca.boeing.com> neil@bcstec.ca.boeing.com (Neil Williams) writes:\\n>As long as we're on the subject... Several years ago myself and two others\\n>were riding in the front of a Toyota pickup heading south on Interstate 5\\n>north of Seattle, WA. Someone threw a rock of an overpass and hit our\\n>windshield. Not by accident I'm sure, it was impossible to get up to the\\n>overpass quickly to see who did it. We figured it was kids, reported it and\\n>left.\\n>A couple of years ago it happend again and killed a guy at my company. He was\\n>in his mid-fourties and left behind a wife and children. Turned out there was\\n>a reformatory for juviniles a few blocks away. They caught the 14 year old\\n>that did it. They put a cover over the overpass, what else could they do?\\n\\nExecute the juvi on the grounds of the reformatory, required attendendence\\nby the rest of the inmates, as soon as possible after the incident and a\\nquick sure trial.  I am quite serious.  Cause and effect.  Nothing else\\nwill ever make a dent.\\n\\n>I don't think I'll over forget this story.\\n>Neil Williams, Boeing Computer Services, Bellevue WA.\\n\\nMe neither.\\n\\n\\n-- \\nTom Mackey          (206) 865-6575        tomm@voodoo.ca.boeing.com\\nBoeing Computer Services               ....uunet!bcstec!voodoo!tomm\\nM/S 7K-20,       P.O. Box 24346,       Seattle, WA       98124-0346\\n\",\n",
              " 'From: tclock@orion.oac.uci.edu (Tim Clock)\\nSubject: Re: Final Solution for Gaza ?\\nNntp-Posting-Host: orion.oac.uci.edu\\nOrganization: University of California, Irvine\\nLines: 39\\n\\nIn article <1993Apr26.172744.23230@colorado.edu> perlman@qso.Colorado.EDU (Eric S. Perlman) writes:\\n>In article <1483500354@igc.apc.org> Center for Policy Research <cpr@igc.apc.org> writes:\\n>>\\n>>[...]\\n>>The Gaza strip, this tiny area of land with the highest population\\n>>density in the world, has been cut off from the world for weeks.\\n>>The Israeli occupier has decided to punish the whole population of\\n>>Gaza, some 700.000 people, by denying them the right to leave the\\n>>strip and seek work in Israel.\\n>\\n>Anyone who can repeate this choice piece of tripe without checking\\n>his/her sources does not deserve to be believed.  The Gaza strip does\\n>not possess the highest population density in the world.  In fact, it\\n>isn\\'t even close.  Just one example will serve to illustrate the folly\\n>of this statement:  the city of Hong Kong has nearly ten times the\\n>population of the Gaza strip in a roughly comparable land area.  The\\n>centers of numerous cities also possess comparable, if not far higher,\\n>population densities.  Examples include Manhattan Island (NY City), Sao\\n>Paolo, Ciudad de Mexico, Bombay,... \\n>\\n>Need I go on?  The rest of Mr. Davidsson\\'s message is no closer to the\\n>truth than this oft-repeated statement is.\\n>\\nElias\\' initial statement certain *is* hot air. But it seems to be\\nalmost standard procedure around here to first throw out an absurb,\\noverstated image in order to add extra \"meaning\" to the posting\\'s\\n*real point*. \\n\\nHowever, his second statement *is* quite real. The essential sealing off\\nof Gaza residents from the possibility of making a living *has happened*.\\nCertainly, the Israeli had a legitimate worry behind the action they took,\\nbut isn\\'t that action a little draconian?\\n\\n\\n--\\nTim Clock                                   Ph.D./Graduate student\\nUCI  tel#: 714,8565361                      Department of Politics and Society\\n     fax#: 714,8568441                      University of California - Irvine\\nHome tel#: 714,8563446                      Irvine, CA 92717\\n',\n",
              " 'From: pmolloy@microwave.msfc.nasa.gov (G. Patrick Molloy)\\nSubject: Re: Eco-Freaks forcing Space Mining.\\nNntp-Posting-Host: 128.158.30.103\\nReply-To: pmolloy@microwave.msfc.nasa.gov (G. Patrick Molloy)\\nOrganization: NASA/MSFC\\nLines: 40\\n\\nIn article <1993Apr21.212202.1@aurora.alaska.edu>, nsmca@aurora.alaska.edu \\nwrites:\\n> Here is a way to get the commericial companies into space and mineral\\n> exploration.\\n> \\n> Basically get the eci-freaks to make it so hard to get the minerals on earth..\\n> You think this is crazy. Well in a way it is, but in a way it is reality.\\n> \\n> There is a billin the congress to do just that.. Basically to make it so\\n> expensive to mine minerals in the US, unless you can by off the inspectors or\\n> tax collectors.. ascially what I understand from talking to a few miner friends \\n> of mine, that they (the congress) propose to have a tax on the gross income of\\n> the mine, versus the adjusted income, also the state governments have there\\n> normal taxes. So by the time you get done, paying for materials, workers, and\\n> other expenses you can owe more than what you made.\\n> BAsically if you make a 1000.00 and spend 500. ofor expenses, you can owe\\n> 600.00 in federal taxes.. Bascially it is driving the miners off the land.. And\\n> the only peopel who benefit are the eco-freaks.. \\n> \\n> Basically to get back to my beginning statement, is space is the way to go\\n> cause it might just get to expensive to mine on earth because of either the\\n> eco-freaks or the protectionist.. \\n> Such fun we have in these interesting times..\\n> \\n> ==\\n> Michael Adams, nsmca@acad3.alaska.edu -- I\\'m not high, just jacked\\n\\nThe current mining regulations and fees were set in the 1800\\'s!\\nWhat the so-called \"eco-freaks\" want to do is to simply bring those\\nfees in line with current economic reality.  Currently, mining companies\\ncan get access to minerals on public lands for ridiculously low prices --\\nsomething like $50!  The mining lobby has for decades managed to block\\nany reform of these outdated fees.  In fact, the latest attempt to reform\\nthem was again blocked -- President Clinton \"compromised\" by taking the\\nmining fee reforms out of his \\'94 budget, and plans to draft separate\\nlegislation to fight that battle.\\nIf you want to discuss this further, I suggest you take this to talk.environment.\\n\\nG. Patrick Molloy\\nHuntsville, Alabama\\n',\n",
              " 'Subject: Re: Can Microwaves Be Used To Collect XYZ Coordinates\\nFrom: ganter@ifi.unibas.ch (Robert Ganter)\\nOrganization: Institut fuer Informatik\\nNntp-Posting-Host: schroeder.ifi.unibas.ch\\nLines: 63\\n\\nIn article <1993Apr15.103953.66252@cc.usu.edu>  writes:\\n> In article <C5Hs5J.AG7@bcstec.ca.boeing.com>, rgc3679@bcstec.ca.boeing.com  \\n(Robert G. Carpenter) writes:\\n> \\n> |> It seems reasonable to me that a microwave transmitter-receiver setup  \\ncould \\n> |> do the job. For example, say you want to map an acre lot, it\\'d be  \\nconvenient\\n> |> to place MW transmitters around the lot\\'s periphery (either 2 or 3) and  \\nthen\\n> |> carry a hand-held recorder and walk to a point on the lot, press a button  \\nand\\n> |> the coords of the recorder\\'s location is stored as digital data.\\n> |> \\n> |> What\\'s the chance of this working? Any systems like this already exist?\\n> |> What kind of accuracy could you expect? What would something like this\\n> |> cost to prototype? Is there a better alternative than microwaves?\\n> \\n> Of course you could develope this system, but there is already a system  \\ncalled Global\\n> Positioning Satellites.  It gives three dimensional coordinates anywhere on  \\nearth. \\n> Many surveyors use this system with a differential receiver/transmitter to  \\nget\\n> coordinates within centimeters.  Basic receivers with resolution of a few  \\nmeters (on\\n> a good day) are available from many sources.\\n> \\n> \\n> -- \\n> WMWMWMWMWMWMWMWMWMWMWMWMWMWMWMWMWMWMWMWMWMWMWMWMWMWMWMWMWMWMWMWMWMWMW\\n> \\n>   \\\\_      \\\\_  \\\\_\\\\_\\\\_    \\\\_\\\\_\\\\_               Weston R Beal\\n>    \\\\_      \\\\_  \\\\_    \\\\_  \\\\_    \\\\_         sldf3@sol.ee.usu.edu\\n>     \\\\_  \\\\_  \\\\_  \\\\_\\\\_\\\\_    \\\\_\\\\_\\\\_            sldf3@cc.usu.edu\\n>      \\\\_\\\\_  \\\\_\\\\_  \\\\_  \\\\_    \\\\_    \\\\_       Electrical Engineer\\n>       \\\\_      \\\\_  \\\\_    \\\\_  \\\\_\\\\_\\\\_       Utah State University\\n> \\n>   \"That\\'s the wonderful thing about crayons; they can take you to\\n>    more places than a starship can.\"    - Guinon\\n> \\n> \\n\\nThought it means Global Positioning System. There are two precision levels, one  \\nfor army applications (killing has to be very accurate today) and one for civil  \\nones. The civil precision is about 20 to 30m (correct me, if I\\'m wrong),  \\nthough, it may be insufficiant for mapping buildings. But there is a way with  \\nan additional reference point (e.g. one fixed GPS system in a house) to get the  \\nsame high precision as the military version, but it gets pretty complicated  \\nthen. If You use a microwave system (actually this means some type of radar),  \\nYou need quite a lot of number crunching to get accurate vectorized data out of  \\nYour original signals. So the GPS system seems to be the better (and running)  \\nidea for Your application(there have been discussions in this newsgroup, don\\'t  \\nknow of an address anymore).\\n\\nCheers    Robert   (HB9NBY) \\n--\\nRobert Ganter\\t\\t\\t/------------\\\\\\nUniversitaet Basel\\t\\t| I am a fan |\\nInstitut fuer Informatik\\t| of my plan |\\nBasel/Switzerland\\t\\t\\\\------------/\\nganter@ifi.unibas.ch\\namateurradio: HB9NBY\\tpacket: HB9NBY@HB9EAS.CHE.EU\\n',\n",
              " \"From: kkopp@uxh.cso.uiuc.edu (koppenhoefer kyle cramm)\\nSubject: Re: NC vs Hunt (Marine Gay Bashing in Wilmington NC) verdict\\nOrganization: University of Illinois at Urbana\\nLines: 15\\n\\ntfarrell@lynx.dac.northeastern.edu (Thomas Farrell) writes:\\n>>So you feel that the defendents should have been convicted regardless of the\\n>>evidence. Now that would truely be a sad day for civil rights.\\n\\n>I don't know about everybody else, but to me, they should have been\\n>convicted BECAUSE of the evidence, which in my mind was quite\\n>sufficient.\\n\\n\\n\\n    So, you sat in the court room and listened to the case.  After careful\\nconsideration, you have come to your conclusion.  Well, good for you.\\n\\n\\n\\n\",\n",
              " \"From: jake@bony1.bony.com (Jake Livni)\\nSubject: Re: Basil, opinions? (Re: Water on the brain)\\nOrganization: The Department of Redundancy Department\\nLines: 15\\n\\nIn article <1qmr5qINN5af@early-bird.think.com> shaig@Think.COM (Shai Guday) writes:\\n\\n>The Litani river flows in a west-southwestern direction and indeed does\\n>not run through the buffer zone.  The Hasbani does flow into the Jordan\\n>but contrary to what our imaginative poster might write, there has been\\n>no increase in the inflow from this river that is not proportional to\\n>climatic changes in rainfall.\\n\\nWhat did you have to go and bring THAT up for?  Now they're going to\\nsay that Israel is stealing the RAIN, too....\\n\\n-- \\nJake Livni  jake@bony1.bony.com           Ten years from now, George Bush will\\nAmerican-Occupied New York                   have replaced Jimmy Carter as the\\nMy opinions only - employer has no opinions.    standard of a failed President.\\n\"]"
            ]
          },
          "metadata": {
            "tags": []
          },
          "execution_count": 9
        }
      ]
    }
  ]
}