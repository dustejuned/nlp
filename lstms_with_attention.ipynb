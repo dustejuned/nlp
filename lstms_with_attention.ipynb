{
  "nbformat": 4,
  "nbformat_minor": 0,
  "metadata": {
    "colab": {
      "name": "lstms_with_attention.ipynb",
      "version": "0.3.2",
      "provenance": [],
      "collapsed_sections": [],
      "include_colab_link": true
    },
    "kernelspec": {
      "name": "python3",
      "display_name": "Python 3"
    },
    "accelerator": "GPU"
  },
  "cells": [
    {
      "cell_type": "markdown",
      "metadata": {
        "id": "view-in-github",
        "colab_type": "text"
      },
      "source": [
        "<a href=\"https://colab.research.google.com/github/dustejuned/nlp/blob/master/lstms_with_attention.ipynb\" target=\"_parent\"><img src=\"https://colab.research.google.com/assets/colab-badge.svg\" alt=\"Open In Colab\"/></a>"
      ]
    },
    {
      "cell_type": "code",
      "metadata": {
        "id": "pCiT9upBUzgo",
        "colab_type": "code",
        "colab": {}
      },
      "source": [
        "import tensorflow as tf\n",
        "from tensorflow import keras\n",
        "from keras_preprocessing import sequence\n",
        "import os"
      ],
      "execution_count": 0,
      "outputs": []
    },
    {
      "cell_type": "code",
      "metadata": {
        "id": "x3zKxCBTWBEd",
        "colab_type": "code",
        "colab": {}
      },
      "source": [
        "class Attention(tf.keras.Model):\n",
        "    def __init__(self, units):\n",
        "        super(Attention, self).__init__()\n",
        "        self.Layer1 = tf.keras.layers.Dense(units)\n",
        "        self.Layer2 = tf.keras.layers.Dense(units)\n",
        "        self.V = tf.keras.layers.Dense(1)\n",
        "\n",
        "    def call(self, features, hidden):\n",
        "        hidden_time_axis = tf.expand_dims(hidden, 1)\n",
        "        score = tf.nn.tanh(self.Layer1(features) + self.Layer2(hidden_time_axis))\n",
        "        attention_weights = tf.nn.softmax(self.V(score), axis = 1)\n",
        "        context_vector = attention_weights * features\n",
        "        context_vector = tf.reduce_sum(context_vector, axis=1)\n",
        "\n",
        "        return context_vector"
      ],
      "execution_count": 0,
      "outputs": []
    },
    {
      "cell_type": "code",
      "metadata": {
        "id": "A6jbYx0pWIay",
        "colab_type": "code",
        "colab": {}
      },
      "source": [
        "def BuildModel(vocab_size=10000, max_input_len=200, rnn_cell_size=128, dropout=0.2):\n",
        "    #Randomly initialize embedding vector\n",
        "    input_sequence = keras.Input(shape=(max_input_len,), dtype='int32')\n",
        "    embedded_sequence = keras.layers.Embedding(vocab_size, 128, input_length=max_input_len)(input_sequence)\n",
        "    #create first bidirectional lstm layer\n",
        "    lstm = keras.layers.Bidirectional(keras.layers.LSTM(rnn_cell_size, dropout=dropout, return_sequences=True, return_state=True, recurrent_activation='relu', recurrent_initializer='glorot_uniform'), name='bidirectional_lstm_0')(embedded_sequence)\n",
        "    lstm, forward_h, forward_c, backward_h, backward_c = keras.layers.Bidirectional(keras.layers.LSTM(rnn_cell_size, dropout=dropout, return_sequences=True, return_state=True, recurrent_activation='relu', recurrent_initializer='glorot_uniform'), name='bidirectional_lstm_1')(lstm)\n",
        "\n",
        "    #concatenate the input of both hidden state before calulating attention\n",
        "    state_h = keras.layers.Concatenate()([forward_h, backward_h])\n",
        "    #state_c = keras.layers.Concatenate()([forward_c, backward_c])\n",
        "\n",
        "    attention = Attention(128)\n",
        "    context_vector = attention.call(lstm, state_h)\n",
        "\n",
        "    output = keras.layers.Dense(1, activation='sigmoid')(context_vector)\n",
        "\n",
        "    model = keras.Model(inputs=input_sequence, outputs=output)\n",
        "    \n",
        "    return model"
      ],
      "execution_count": 0,
      "outputs": []
    },
    {
      "cell_type": "code",
      "metadata": {
        "id": "8_bTxUPsWN1q",
        "colab_type": "code",
        "colab": {}
      },
      "source": [
        "def TrainModel(model, x_train, y_train):\n",
        "    model.compile(optimizer= tf.train.AdamOptimizer(), loss= 'binary_crossentropy', metrics=['accuracy'])\n",
        "    early_stopping_cb = keras.callbacks.EarlyStopping(monitor='val_loss', min_delta=0, patience=10, verbose=0, mode='auto')\n",
        "    history = model.fit(x_train, y_train, epochs=10, batch_size=200, validation_split=.3, verbose = 1, callbacks=[early_stopping_cb])\n",
        "\n",
        "    return model, history"
      ],
      "execution_count": 0,
      "outputs": []
    },
    {
      "cell_type": "code",
      "metadata": {
        "id": "lQegO6KZWR4S",
        "colab_type": "code",
        "colab": {}
      },
      "source": [
        "def TestModel(model, x_test, y_test):\n",
        "    result = model.evaluate(x_test, y_test)\n",
        "    return result"
      ],
      "execution_count": 0,
      "outputs": []
    },
    {
      "cell_type": "code",
      "metadata": {
        "id": "2Cias45tWX8O",
        "colab_type": "code",
        "colab": {
          "base_uri": "https://localhost:8080/",
          "height": 1000
        },
        "outputId": "766e4809-7c8f-4f7c-e968-eeed081c30dc"
      },
      "source": [
        "vocab_size = 10000\n",
        "max_len = 200\n",
        "pad_id = 0\n",
        "start_id = 1\n",
        "unknown_id = 2\n",
        "index_offset = 2\n",
        "\n",
        "(x_train, y_train), (x_test, y_test) = keras.datasets.imdb.load_data(num_words=vocab_size, start_char=start_id, oov_char=unknown_id, index_from=index_offset)\n",
        "\n",
        "word2idx = keras.datasets.imdb.get_word_index()\n",
        "\n",
        "idx2word = {i + index_offset: w for w, i in word2idx.items()}\n",
        "idx2word[pad_id] = '<PAD>'\n",
        "idx2word[start_id] = '<START>'\n",
        "idx2word[unknown_id] = '<UNKNOWN>'\n",
        "\n",
        "x_train = sequence.pad_sequences(x_train, maxlen=max_len, truncating='post', padding='post', value=pad_id)\n",
        "x_test = sequence.pad_sequences(x_test, maxlen=max_len, truncating='post', padding='post', value=pad_id)\n",
        "\n",
        "model = BuildModel()\n",
        "print(model.summary())\n",
        "model, history = TrainModel(model, x_train, y_train)\n",
        "print(history)\n",
        "result = TestModel(model, x_test, y_test)\n",
        "print(result)"
      ],
      "execution_count": 12,
      "outputs": [
        {
          "output_type": "stream",
          "text": [
            "Model: \"model_2\"\n",
            "__________________________________________________________________________________________________\n",
            "Layer (type)                    Output Shape         Param #     Connected to                     \n",
            "==================================================================================================\n",
            "input_3 (InputLayer)            [(None, 200)]        0                                            \n",
            "__________________________________________________________________________________________________\n",
            "embedding_2 (Embedding)         (None, 200, 128)     1280000     input_3[0][0]                    \n",
            "__________________________________________________________________________________________________\n",
            "bidirectional_lstm_0 (Bidirecti [(None, 200, 256), ( 263168      embedding_2[0][0]                \n",
            "__________________________________________________________________________________________________\n",
            "bidirectional_lstm_1 (Bidirecti [(None, 200, 256), ( 394240      bidirectional_lstm_0[0][0]       \n",
            "                                                                 bidirectional_lstm_0[0][1]       \n",
            "                                                                 bidirectional_lstm_0[0][2]       \n",
            "                                                                 bidirectional_lstm_0[0][3]       \n",
            "                                                                 bidirectional_lstm_0[0][4]       \n",
            "__________________________________________________________________________________________________\n",
            "concatenate_2 (Concatenate)     (None, 256)          0           bidirectional_lstm_1[0][1]       \n",
            "                                                                 bidirectional_lstm_1[0][3]       \n",
            "__________________________________________________________________________________________________\n",
            "tf_op_layer_ExpandDims_2 (Tenso [(None, 1, 256)]     0           concatenate_2[0][0]              \n",
            "__________________________________________________________________________________________________\n",
            "dense_8 (Dense)                 (None, 200, 128)     32896       bidirectional_lstm_1[0][0]       \n",
            "__________________________________________________________________________________________________\n",
            "dense_9 (Dense)                 (None, 1, 128)       32896       tf_op_layer_ExpandDims_2[0][0]   \n",
            "__________________________________________________________________________________________________\n",
            "tf_op_layer_add_2 (TensorFlowOp [(None, 200, 128)]   0           dense_8[0][0]                    \n",
            "                                                                 dense_9[0][0]                    \n",
            "__________________________________________________________________________________________________\n",
            "tf_op_layer_Tanh_2 (TensorFlowO [(None, 200, 128)]   0           tf_op_layer_add_2[0][0]          \n",
            "__________________________________________________________________________________________________\n",
            "dense_10 (Dense)                (None, 200, 1)       129         tf_op_layer_Tanh_2[0][0]         \n",
            "__________________________________________________________________________________________________\n",
            "tf_op_layer_transpose_4 (Tensor [(None, 1, 200)]     0           dense_10[0][0]                   \n",
            "__________________________________________________________________________________________________\n",
            "tf_op_layer_Softmax_2 (TensorFl [(None, 1, 200)]     0           tf_op_layer_transpose_4[0][0]    \n",
            "__________________________________________________________________________________________________\n",
            "tf_op_layer_transpose_5 (Tensor [(None, 200, 1)]     0           tf_op_layer_Softmax_2[0][0]      \n",
            "__________________________________________________________________________________________________\n",
            "tf_op_layer_mul_2 (TensorFlowOp [(None, 200, 256)]   0           tf_op_layer_transpose_5[0][0]    \n",
            "                                                                 bidirectional_lstm_1[0][0]       \n",
            "__________________________________________________________________________________________________\n",
            "tf_op_layer_Sum_2 (TensorFlowOp [(None, 256)]        0           tf_op_layer_mul_2[0][0]          \n",
            "__________________________________________________________________________________________________\n",
            "dense_11 (Dense)                (None, 1)            257         tf_op_layer_Sum_2[0][0]          \n",
            "==================================================================================================\n",
            "Total params: 2,003,586\n",
            "Trainable params: 2,003,586\n",
            "Non-trainable params: 0\n",
            "__________________________________________________________________________________________________\n",
            "None\n",
            "Train on 17500 samples, validate on 7500 samples\n",
            "Epoch 1/10\n",
            "17500/17500 [==============================] - 109s 6ms/sample - loss: nan - acc: 0.5142 - val_loss: nan - val_acc: 0.4933\n",
            "Epoch 2/10\n",
            "17500/17500 [==============================] - 108s 6ms/sample - loss: nan - acc: 0.5029 - val_loss: nan - val_acc: 0.4933\n",
            "Epoch 3/10\n",
            "17500/17500 [==============================] - 107s 6ms/sample - loss: nan - acc: 0.5029 - val_loss: nan - val_acc: 0.4933\n",
            "Epoch 4/10\n",
            "17500/17500 [==============================] - 107s 6ms/sample - loss: nan - acc: 0.5029 - val_loss: nan - val_acc: 0.4933\n",
            "Epoch 5/10\n",
            "17500/17500 [==============================] - 107s 6ms/sample - loss: nan - acc: 0.5029 - val_loss: nan - val_acc: 0.4933\n",
            "Epoch 6/10\n",
            "17500/17500 [==============================] - 107s 6ms/sample - loss: nan - acc: 0.5029 - val_loss: nan - val_acc: 0.4933\n",
            "Epoch 7/10\n",
            "17500/17500 [==============================] - 107s 6ms/sample - loss: nan - acc: 0.5029 - val_loss: nan - val_acc: 0.4933\n",
            "Epoch 8/10\n",
            "17500/17500 [==============================] - 108s 6ms/sample - loss: nan - acc: 0.5029 - val_loss: nan - val_acc: 0.4933\n",
            "Epoch 9/10\n",
            "17500/17500 [==============================] - 107s 6ms/sample - loss: nan - acc: 0.5029 - val_loss: nan - val_acc: 0.4933\n",
            "Epoch 10/10\n",
            "17500/17500 [==============================] - 107s 6ms/sample - loss: nan - acc: 0.5029 - val_loss: nan - val_acc: 0.4933\n",
            "<tensorflow.python.keras.callbacks.History object at 0x7f0ed3f4b668>\n",
            "25000/25000 [==============================] - 375s 15ms/sample - loss: nan - acc: 0.5000\n",
            "[nan, 0.5]\n"
          ],
          "name": "stdout"
        }
      ]
    },
    {
      "cell_type": "code",
      "metadata": {
        "id": "p3E3bODhz8oy",
        "colab_type": "code",
        "colab": {
          "base_uri": "https://localhost:8080/",
          "height": 391
        },
        "outputId": "35e75dad-faa7-457b-c285-d47e6da8f5c6"
      },
      "source": [
        "history.history"
      ],
      "execution_count": 14,
      "outputs": [
        {
          "output_type": "execute_result",
          "data": {
            "text/plain": [
              "{'acc': [0.5141714,\n",
              "  0.50285715,\n",
              "  0.50285715,\n",
              "  0.50285715,\n",
              "  0.50285715,\n",
              "  0.50285715,\n",
              "  0.50285715,\n",
              "  0.50285715,\n",
              "  0.50285715,\n",
              "  0.50285715],\n",
              " 'loss': [nan, nan, nan, nan, nan, nan, nan, nan, nan, nan],\n",
              " 'val_acc': [0.49333334,\n",
              "  0.49333334,\n",
              "  0.49333334,\n",
              "  0.49333334,\n",
              "  0.49333334,\n",
              "  0.49333334,\n",
              "  0.49333334,\n",
              "  0.49333334,\n",
              "  0.49333334,\n",
              "  0.49333334],\n",
              " 'val_loss': [nan, nan, nan, nan, nan, nan, nan, nan, nan, nan]}"
            ]
          },
          "metadata": {
            "tags": []
          },
          "execution_count": 14
        }
      ]
    }
  ]
}