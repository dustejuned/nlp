{
  "nbformat": 4,
  "nbformat_minor": 0,
  "metadata": {
    "colab": {
      "name": "basic_lstm.ipynb",
      "version": "0.3.2",
      "provenance": [],
      "collapsed_sections": [],
      "include_colab_link": true
    },
    "kernelspec": {
      "name": "python3",
      "display_name": "Python 3"
    }
  },
  "cells": [
    {
      "cell_type": "markdown",
      "metadata": {
        "id": "view-in-github",
        "colab_type": "text"
      },
      "source": [
        "<a href=\"https://colab.research.google.com/github/dustejuned/nlp/blob/master/basic_lstm.ipynb\" target=\"_parent\"><img src=\"https://colab.research.google.com/assets/colab-badge.svg\" alt=\"Open In Colab\"/></a>"
      ]
    },
    {
      "cell_type": "code",
      "metadata": {
        "id": "B-_k7PQ0gO4P",
        "colab_type": "code",
        "colab": {
          "base_uri": "https://localhost:8080/",
          "height": 323
        },
        "outputId": "5de69f20-a74e-406c-c1cd-135b396bcd89"
      },
      "source": [
        "import numpy as np\n",
        "from keras.models import Sequential\n",
        "from keras.layers import LSTM\n",
        "from keras.layers import Dense\n",
        "from keras.layers import RepeatVector\n",
        "from keras.layers import TimeDistributed\n",
        "from keras.utils import plot_model\n",
        "\n",
        "\n",
        "# nine time steps input sequence with one feature\n",
        "sequence = np.array([0.1, 0.2, 0.3, 0.4, 0.5, 0.6, 0.7, 0.8, 0.9])\n",
        "\n",
        "#convert the squence into (batch_size, time_steps, features)\n",
        "time_steps = len(sequence)\n",
        "sequence = sequence.reshape(1, time_steps, 1)\n",
        "\n",
        "#define LSTM encoder-decoder model that accepts input sequence of 9 timesteps and one feature\n",
        "#and outputs 9 timesteps with one feature\n",
        "\n",
        "model = Sequential()\n",
        "model.add(LSTM(100, activation='relu', input_shape=(time_steps, 1)))\n",
        "model.add(RepeatVector(time_steps))\n",
        "model.add(LSTM(100, activation='relu', return_sequences=True))\n",
        "model.add(TimeDistributed(Dense(1)))\n",
        "model.compile(optimizer='adam', loss='mse')\n",
        "\n",
        "\n",
        "#print model architecture\n",
        "print(model.summary())\n",
        "\n",
        "model.fit(sequence, sequence, epochs=300, verbose=0)\n",
        "\n",
        "#plot model and save it as image\n",
        "\n",
        "plot_model(model, show_shapes=True, to_file='basic_lstm.png')\n",
        "\n",
        "prediction = model.predict(sequence, verbose=0)\n",
        "\n",
        "prediction.shape\n",
        "\n",
        "print(prediction[0, :, 0])\n",
        "\n",
        "\n",
        "\n"
      ],
      "execution_count": 9,
      "outputs": [
        {
          "output_type": "stream",
          "text": [
            "_________________________________________________________________\n",
            "Layer (type)                 Output Shape              Param #   \n",
            "=================================================================\n",
            "lstm_3 (LSTM)                (None, 100)               40800     \n",
            "_________________________________________________________________\n",
            "repeat_vector_2 (RepeatVecto (None, 9, 100)            0         \n",
            "_________________________________________________________________\n",
            "lstm_4 (LSTM)                (None, 9, 100)            80400     \n",
            "_________________________________________________________________\n",
            "time_distributed_2 (TimeDist (None, 9, 1)              101       \n",
            "=================================================================\n",
            "Total params: 121,301\n",
            "Trainable params: 121,301\n",
            "Non-trainable params: 0\n",
            "_________________________________________________________________\n",
            "None\n",
            "[0.10482721 0.19957529 0.29841667 0.39897203 0.50037354 0.6009971\n",
            " 0.7001955  0.7994091  0.90005726]\n"
          ],
          "name": "stdout"
        }
      ]
    }
  ]
}